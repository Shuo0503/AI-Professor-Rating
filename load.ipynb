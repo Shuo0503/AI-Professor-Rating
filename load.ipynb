{
 "cells": [
  {
   "cell_type": "code",
   "execution_count": 37,
   "metadata": {},
   "outputs": [],
   "source": [
    "from dotenv import load_dotenv\n",
    "load_dotenv()\n",
    "from pinecone import Pinecone, ServerlessSpec\n",
    "from openai import OpenAI\n",
    "import os\n",
    "import json\n",
    "\n",
    "\n",
    "pc = Pinecone(api_key=os.getenv(\"PINECONE_API_KEY\"))\n",
    "index = pc.Index('rag')\n",
    "\n",
    "pc.create_index(\n",
    "  name=\"rag\",\n",
    "  dimension=4096,\n",
    "  metric=\"cosine\",\n",
    "  spec=ServerlessSpec(\n",
    "    cloud=\"aws\",\n",
    "    region=\"us-east-1\"\n",
    "    ) \n",
    ")"
   ]
  },
  {
   "cell_type": "code",
   "execution_count": 38,
   "metadata": {},
   "outputs": [],
   "source": [
    "data = json.load(open(\"reviews.json\"))"
   ]
  },
  {
   "cell_type": "code",
   "execution_count": 41,
   "metadata": {},
   "outputs": [
    {
     "name": "stdout",
     "output_type": "stream",
     "text": [
      "It looks like you're testing me!\n",
      "Failed to create embedding: Error code: 405\n",
      "Failed to create embedding: Error code: 405\n",
      "Failed to create embedding: Error code: 405\n",
      "Failed to create embedding: Error code: 405\n",
      "Failed to create embedding: Error code: 405\n",
      "Failed to create embedding: Error code: 405\n",
      "Failed to create embedding: Error code: 405\n",
      "Failed to create embedding: Error code: 405\n",
      "Failed to create embedding: Error code: 405\n",
      "Failed to create embedding: Error code: 405\n",
      "Failed to create embedding: Error code: 405\n",
      "Failed to create embedding: Error code: 405\n",
      "Failed to create embedding: Error code: 405\n",
      "Failed to create embedding: Error code: 405\n",
      "Failed to create embedding: Error code: 405\n",
      "Failed to create embedding: Error code: 405\n",
      "Failed to create embedding: Error code: 405\n",
      "Failed to create embedding: Error code: 405\n",
      "Failed to create embedding: Error code: 405\n",
      "Failed to create embedding: Error code: 405\n",
      "Failed to create embedding: Error code: 405\n"
     ]
    }
   ],
   "source": [
    "processed_data = []\n",
    "client = OpenAI(\n",
    "    base_url=\"https://openrouter.ai/api/v1\",\n",
    "    api_key=os.getenv(\"OPENROUTER_API_KEY\"),\n",
    "    )\n",
    "completion = client.chat.completions.create(\n",
    "  model=\"meta-llama/llama-3-8b-instruct:free\",\n",
    "  messages=[\n",
    "    {\n",
    "      \"role\": \"user\",\n",
    "      \"content\": \"Say this is a test\",\n",
    "    },\n",
    "  ],\n",
    ")\n",
    "print(completion.choices[0].message.content)\n",
    "\n",
    "for review in data['reviews']:\n",
    "    try:\n",
    "      response = client.embeddings.create(\n",
    "          input = review['review'],\n",
    "          model = \"text-embedding-3-small\",\n",
    "      )\n",
    "      embedding = response.data[0].embedding\n",
    "    except Exception as e:\n",
    "      print(f\"Failed to create embedding: {e}\")\n",
    "      continue\n",
    "\n",
    "    processed_data.append({\n",
    "        \"values\": embedding,\n",
    "        \"id\": review[\"professor\"],\n",
    "        \"metadata\": {\n",
    "            \"review\": review[\"review\"],\n",
    "            \"subject\": review[\"subject\"],\n",
    "            \"stars\": review[\"stars\"]\n",
    "        }\n",
    "    })\n",
    "    \n",
    "    upsert_response = index.upsert(\n",
    "        vectors=processed_data,\n",
    "        namespace=\"ns1\",\n",
    "    )\n",
    "    print(f\"Upserted count: {upsert_response['upserted_count']}\")\n",
    "\n",
    "    # Print index statistics\n",
    "    print(index.describe_index_stats())"
   ]
  }
 ],
 "metadata": {
  "kernelspec": {
   "display_name": "base",
   "language": "python",
   "name": "python3"
  },
  "language_info": {
   "codemirror_mode": {
    "name": "ipython",
    "version": 3
   },
   "file_extension": ".py",
   "mimetype": "text/x-python",
   "name": "python",
   "nbconvert_exporter": "python",
   "pygments_lexer": "ipython3",
   "version": "3.12.4"
  }
 },
 "nbformat": 4,
 "nbformat_minor": 2
}
